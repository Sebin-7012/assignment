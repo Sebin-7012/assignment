{
  "nbformat": 4,
  "nbformat_minor": 0,
  "metadata": {
    "colab": {
      "name": "Day 3.ipynb",
      "provenance": [],
      "collapsed_sections": [],
      "authorship_tag": "ABX9TyPOSUIhC0FuLMG9npqJwSfJ",
      "include_colab_link": true
    },
    "kernelspec": {
      "display_name": "Python 3",
      "name": "python3"
    }
  },
  "cells": [
    {
      "cell_type": "markdown",
      "metadata": {
        "id": "view-in-github",
        "colab_type": "text"
      },
      "source": [
        "<a href=\"https://colab.research.google.com/github/Sebin-7012/assignment/blob/main/Day_3.ipynb\" target=\"_parent\"><img src=\"https://colab.research.google.com/assets/colab-badge.svg\" alt=\"Open In Colab\"/></a>"
      ]
    },
    {
      "cell_type": "markdown",
      "metadata": {
        "id": "P-ombzl_aV33"
      },
      "source": [
        " Using  if and else if"
      ]
    },
    {
      "cell_type": "code",
      "metadata": {
        "colab": {
          "base_uri": "https://localhost:8080/"
        },
        "id": "ut2PmPzbTptn",
        "outputId": "8dbc3761-24e4-426b-d3a0-03651bd5f4f3"
      },
      "source": [
        "  marks = int(input(\"Enter the marks\"))\n",
        " \n",
        "  if marks >= 90 :\n",
        "      print(\"The grade is A+\")\n",
        "  elif marks >=70 :\n",
        "      print(\"The grade is B\")\n",
        "  elif marks >= 80 :\n",
        "        print(\"The grade is B+\")\n",
        "  else :\n",
        "     print(\"you are failed\")"
      ],
      "execution_count": null,
      "outputs": [
        {
          "output_type": "stream",
          "text": [
            "Enter the marks80\n",
            "The grade is B\n"
          ],
          "name": "stdout"
        }
      ]
    },
    {
      "cell_type": "code",
      "metadata": {
        "colab": {
          "base_uri": "https://localhost:8080/"
        },
        "id": "atbuVs6QE9xD",
        "outputId": "884f3392-2242-4eac-c56d-dacf2847baec"
      },
      "source": [
        "username = 'sebin'\n",
        "password ='1234'\n",
        "OTP ='1209'\n",
        "name = input(\"Enter the name : \")\n",
        "userpassword = input(\"Enter the password: \")\n",
        "if name==username :\n",
        "  if userpassword == password :\n",
        "    print(\"you will recieve an OTP\")\n",
        "    pin = input(\"Enter OTP : \")\n",
        "    if pin == OTP :\n",
        "      print(\"WELCOME\"+username)\n",
        "    else :\n",
        "       print(\"Incorrect password\")\n",
        "  else :\n",
        "     print(\"Incorrect Username \")"
      ],
      "execution_count": null,
      "outputs": [
        {
          "output_type": "stream",
          "text": [
            "Enter the name : sebin\n",
            "Enter the password: 1234\n",
            "you will recieve an OTP\n",
            "Enter OTP : 1209\n",
            "WELCOMEsebin\n"
          ],
          "name": "stdout"
        }
      ]
    },
    {
      "cell_type": "markdown",
      "metadata": {
        "id": "qDNUXvrJak0T"
      },
      "source": [
        "Username password block to support OTP verification"
      ]
    },
    {
      "cell_type": "code",
      "metadata": {
        "id": "PhsUYY4Da2bF",
        "colab": {
          "base_uri": "https://localhost:8080/"
        },
        "outputId": "682b13d1-6df2-4a91-c657-007243658b72"
      },
      "source": [
        " username = 'sebin'\n",
        "password = '1234'\n",
        "otp = '9876'\n",
        " \n",
        "name = input(\"Enter Name \")\n",
        "userPassword = input(\"Enter Password \")\n",
        " \n",
        "if name==username :\n",
        "  if userPassword==password :\n",
        "    print(\"Your OTP is 9876 \")\n",
        "    \n",
        "    OTP = input(\"Enter received OTP\")\n",
        " \n",
        "    if  OTP == otp :\n",
        "      print(\"Access Granted\")\n",
        "      print(\"Welcome \"+username)\n",
        "    else :\n",
        "      print(\"Incorrect OTP\")\n",
        "  else :\n",
        "    print(\"Access Denied\")\n",
        "else :\n",
        "  print(\"This User is not in our database\")"
      ],
      "execution_count": null,
      "outputs": [
        {
          "output_type": "stream",
          "text": [
            "Enter Name Sebin\n",
            "Enter Password 1234\n",
            "This User is not in our database\n"
          ],
          "name": "stdout"
        }
      ]
    },
    {
      "cell_type": "markdown",
      "metadata": {
        "id": "MFQ0qaqAb1_b"
      },
      "source": [
        "Dictionary"
      ]
    },
    {
      "cell_type": "code",
      "metadata": {
        "id": "bMIC9Nd3b9gS"
      },
      "source": [
        "StudentMarks ={\n",
        "    \"Ravi\" : 97,\n",
        "    \"Raja\" : 88,\n",
        "    \"Naveen\" : 43,\n",
        "    \"Rose\" : 75,\n",
        "    \"Jane\" : 30\n",
        "}"
      ],
      "execution_count": null,
      "outputs": []
    },
    {
      "cell_type": "code",
      "metadata": {
        "colab": {
          "base_uri": "https://localhost:8080/"
        },
        "id": "SLqmOq8gdTQS",
        "outputId": "a2ef77f4-ba9f-4026-be67-c0284ddd6e63"
      },
      "source": [
        " StudentMarks.keys()"
      ],
      "execution_count": null,
      "outputs": [
        {
          "output_type": "execute_result",
          "data": {
            "text/plain": [
              "dict_keys(['Ravi', 'Raja', 'Naveen', 'Rose', 'Jane'])"
            ]
          },
          "metadata": {
            "tags": []
          },
          "execution_count": 18
        }
      ]
    },
    {
      "cell_type": "code",
      "metadata": {
        "colab": {
          "base_uri": "https://localhost:8080/"
        },
        "id": "aI3hYqFydwrk",
        "outputId": "b67bec82-32e8-4857-8ee9-a3c8944d9e22"
      },
      "source": [
        "for key in StudentMarks.keys():\n",
        "  if StudentMarks[key] < 40 :\n",
        "    print(key+\" has failed\")"
      ],
      "execution_count": null,
      "outputs": [
        {
          "output_type": "stream",
          "text": [
            "Jane has failed\n"
          ],
          "name": "stdout"
        }
      ]
    }
  ]
}